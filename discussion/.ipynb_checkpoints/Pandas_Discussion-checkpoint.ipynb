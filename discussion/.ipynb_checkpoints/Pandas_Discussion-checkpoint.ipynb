{
 "cells": [
  {
   "cell_type": "code",
   "execution_count": 2,
   "id": "0f3e40d7",
   "metadata": {
    "id": "0f3e40d7"
   },
   "outputs": [],
   "source": [
    "#Import Necessary Packages here!\n",
    "import numpy as np\n",
    "import pandas as pd"
   ]
  },
  {
   "cell_type": "markdown",
   "id": "f45530e7",
   "metadata": {
    "id": "f45530e7"
   },
   "source": [
    "## Question 1: Slicing and Splicing (and Slaying)"
   ]
  },
  {
   "cell_type": "markdown",
   "id": "191877a8",
   "metadata": {
    "id": "191877a8"
   },
   "source": [
    "In this question, we're going to practice how we index and select specific parts of dataframes in Pandas. We'll be using the dataframe created below- food_info."
   ]
  },
  {
   "cell_type": "code",
   "execution_count": 3,
   "id": "5219dd54",
   "metadata": {
    "colab": {
     "base_uri": "https://localhost:8080/",
     "height": 175
    },
    "id": "5219dd54",
    "outputId": "10213c79-3a82-436e-e11c-51299815ee17"
   },
   "outputs": [
    {
     "data": {
      "text/html": [
       "<div>\n",
       "<style scoped>\n",
       "    .dataframe tbody tr th:only-of-type {\n",
       "        vertical-align: middle;\n",
       "    }\n",
       "\n",
       "    .dataframe tbody tr th {\n",
       "        vertical-align: top;\n",
       "    }\n",
       "\n",
       "    .dataframe thead th {\n",
       "        text-align: right;\n",
       "    }\n",
       "</style>\n",
       "<table border=\"1\" class=\"dataframe\">\n",
       "  <thead>\n",
       "    <tr style=\"text-align: right;\">\n",
       "      <th></th>\n",
       "      <th>food</th>\n",
       "      <th>restaurant</th>\n",
       "      <th>price</th>\n",
       "    </tr>\n",
       "  </thead>\n",
       "  <tbody>\n",
       "    <tr>\n",
       "      <th>0</th>\n",
       "      <td>Pad Thai</td>\n",
       "      <td>Imm Thai</td>\n",
       "      <td>16.0</td>\n",
       "    </tr>\n",
       "    <tr>\n",
       "      <th>1</th>\n",
       "      <td>Pizza</td>\n",
       "      <td>Cheeseboard</td>\n",
       "      <td>24.5</td>\n",
       "    </tr>\n",
       "    <tr>\n",
       "      <th>2</th>\n",
       "      <td>Burger</td>\n",
       "      <td>Super Duper</td>\n",
       "      <td>7.0</td>\n",
       "    </tr>\n",
       "    <tr>\n",
       "      <th>3</th>\n",
       "      <td>Boba</td>\n",
       "      <td>RareTea</td>\n",
       "      <td>6.5</td>\n",
       "    </tr>\n",
       "  </tbody>\n",
       "</table>\n",
       "</div>"
      ],
      "text/plain": [
       "       food   restaurant  price\n",
       "0  Pad Thai     Imm Thai   16.0\n",
       "1     Pizza  Cheeseboard   24.5\n",
       "2    Burger  Super Duper    7.0\n",
       "3      Boba      RareTea    6.5"
      ]
     },
     "execution_count": 3,
     "metadata": {},
     "output_type": "execute_result"
    }
   ],
   "source": [
    "food_info = pd.DataFrame(\n",
    "    data = {'food': ['Pad Thai', 'Pizza', 'Burger', 'Boba'],\n",
    "          'restaurant': ['Imm Thai', 'Cheeseboard', 'Super Duper', 'RareTea'],\n",
    "          'price': [16.00, 24.50, 7.00, 6.50]\n",
    "          })\n",
    "food_info"
   ]
  },
  {
   "cell_type": "markdown",
   "id": "3dcd36a6",
   "metadata": {
    "id": "3dcd36a6"
   },
   "source": [
    "### 1a. loc\n",
    "\n",
    "In this part, let's practice how to use the loc operator. For this, let's...\n",
    "- Get rows 1 and 3 and column food.\n",
    "- Get rows 1 and 2 and columns food and restaurant.\n",
    "- Get rows 0 through 2 (inclusive) and columns food through price.\n",
    "- Get rows 2 through 3 (inclusive) and columns restaurant and price.\n",
    "\n"
   ]
  },
  {
   "cell_type": "code",
   "execution_count": 14,
   "id": "783df300",
   "metadata": {
    "id": "783df300"
   },
   "outputs": [
    {
     "data": {
      "text/plain": [
       "0    Pad Thai\n",
       "2      Burger\n",
       "Name: food, dtype: object"
      ]
     },
     "execution_count": 14,
     "metadata": {},
     "output_type": "execute_result"
    }
   ],
   "source": [
    "# Solution for Part 1 here!\n",
    "\n",
    "food_info.loc[0:2:2, 'food']"
   ]
  },
  {
   "cell_type": "code",
   "execution_count": 21,
   "id": "cb625ad8",
   "metadata": {
    "id": "cb625ad8"
   },
   "outputs": [
    {
     "data": {
      "text/html": [
       "<div>\n",
       "<style scoped>\n",
       "    .dataframe tbody tr th:only-of-type {\n",
       "        vertical-align: middle;\n",
       "    }\n",
       "\n",
       "    .dataframe tbody tr th {\n",
       "        vertical-align: top;\n",
       "    }\n",
       "\n",
       "    .dataframe thead th {\n",
       "        text-align: right;\n",
       "    }\n",
       "</style>\n",
       "<table border=\"1\" class=\"dataframe\">\n",
       "  <thead>\n",
       "    <tr style=\"text-align: right;\">\n",
       "      <th></th>\n",
       "      <th>food</th>\n",
       "      <th>restaurant</th>\n",
       "    </tr>\n",
       "  </thead>\n",
       "  <tbody>\n",
       "    <tr>\n",
       "      <th>0</th>\n",
       "      <td>Pad Thai</td>\n",
       "      <td>Imm Thai</td>\n",
       "    </tr>\n",
       "    <tr>\n",
       "      <th>1</th>\n",
       "      <td>Pizza</td>\n",
       "      <td>Cheeseboard</td>\n",
       "    </tr>\n",
       "    <tr>\n",
       "      <th>2</th>\n",
       "      <td>Burger</td>\n",
       "      <td>Super Duper</td>\n",
       "    </tr>\n",
       "  </tbody>\n",
       "</table>\n",
       "</div>"
      ],
      "text/plain": [
       "       food   restaurant\n",
       "0  Pad Thai     Imm Thai\n",
       "1     Pizza  Cheeseboard\n",
       "2    Burger  Super Duper"
      ]
     },
     "execution_count": 21,
     "metadata": {},
     "output_type": "execute_result"
    }
   ],
   "source": [
    "# Solution for Part 2 here!\n",
    "\n",
    "food_info.loc[0:2, 'food':'restaurant']"
   ]
  },
  {
   "cell_type": "code",
   "execution_count": null,
   "id": "0f6e747e",
   "metadata": {
    "id": "0f6e747e"
   },
   "outputs": [],
   "source": [
    "# Solution for Part 3 here!"
   ]
  },
  {
   "cell_type": "code",
   "execution_count": null,
   "id": "fbf72734",
   "metadata": {
    "id": "fbf72734"
   },
   "outputs": [],
   "source": [
    "# Solution for Part 4 here!"
   ]
  },
  {
   "cell_type": "markdown",
   "id": "c41f48e8",
   "metadata": {
    "id": "c41f48e8"
   },
   "source": [
    "### 1b. iloc\n",
    "\n",
    "In this part, let's practice how to use the iloc operator. For this, let's...\n",
    "- Get rows 1 and 3 and column food.\n",
    "- Get rows 1 and 2 and columns food and restaurant.\n",
    "- Get rows 0 through 2 (exclusive) and columns food through price.\n",
    "- Get rows 0 through 3 (exclusive) and columns restaurant and price.\n",
    "\n"
   ]
  },
  {
   "cell_type": "code",
   "execution_count": 40,
   "id": "cbf96435",
   "metadata": {
    "id": "cbf96435"
   },
   "outputs": [
    {
     "data": {
      "text/html": [
       "<div>\n",
       "<style scoped>\n",
       "    .dataframe tbody tr th:only-of-type {\n",
       "        vertical-align: middle;\n",
       "    }\n",
       "\n",
       "    .dataframe tbody tr th {\n",
       "        vertical-align: top;\n",
       "    }\n",
       "\n",
       "    .dataframe thead th {\n",
       "        text-align: right;\n",
       "    }\n",
       "</style>\n",
       "<table border=\"1\" class=\"dataframe\">\n",
       "  <thead>\n",
       "    <tr style=\"text-align: right;\">\n",
       "      <th></th>\n",
       "      <th>food</th>\n",
       "    </tr>\n",
       "  </thead>\n",
       "  <tbody>\n",
       "    <tr>\n",
       "      <th>0</th>\n",
       "      <td>Pad Thai</td>\n",
       "    </tr>\n",
       "    <tr>\n",
       "      <th>2</th>\n",
       "      <td>Burger</td>\n",
       "    </tr>\n",
       "  </tbody>\n",
       "</table>\n",
       "</div>"
      ],
      "text/plain": [
       "       food\n",
       "0  Pad Thai\n",
       "2    Burger"
      ]
     },
     "execution_count": 40,
     "metadata": {},
     "output_type": "execute_result"
    }
   ],
   "source": [
    "# Solution for Part 1 here!\n",
    "\n",
    "food_info.iloc[0:3:2, 0:1]"
   ]
  },
  {
   "cell_type": "code",
   "execution_count": 44,
   "id": "37b8c62e",
   "metadata": {
    "id": "37b8c62e"
   },
   "outputs": [
    {
     "data": {
      "text/html": [
       "<div>\n",
       "<style scoped>\n",
       "    .dataframe tbody tr th:only-of-type {\n",
       "        vertical-align: middle;\n",
       "    }\n",
       "\n",
       "    .dataframe tbody tr th {\n",
       "        vertical-align: top;\n",
       "    }\n",
       "\n",
       "    .dataframe thead th {\n",
       "        text-align: right;\n",
       "    }\n",
       "</style>\n",
       "<table border=\"1\" class=\"dataframe\">\n",
       "  <thead>\n",
       "    <tr style=\"text-align: right;\">\n",
       "      <th></th>\n",
       "      <th>food</th>\n",
       "      <th>restaurant</th>\n",
       "    </tr>\n",
       "  </thead>\n",
       "  <tbody>\n",
       "    <tr>\n",
       "      <th>0</th>\n",
       "      <td>Pad Thai</td>\n",
       "      <td>Imm Thai</td>\n",
       "    </tr>\n",
       "    <tr>\n",
       "      <th>1</th>\n",
       "      <td>Pizza</td>\n",
       "      <td>Cheeseboard</td>\n",
       "    </tr>\n",
       "  </tbody>\n",
       "</table>\n",
       "</div>"
      ],
      "text/plain": [
       "       food   restaurant\n",
       "0  Pad Thai     Imm Thai\n",
       "1     Pizza  Cheeseboard"
      ]
     },
     "execution_count": 44,
     "metadata": {},
     "output_type": "execute_result"
    }
   ],
   "source": [
    "# Solution for Part 2 here!\n",
    "\n",
    "food_info.iloc[0:2, 0:2]"
   ]
  },
  {
   "cell_type": "code",
   "execution_count": 46,
   "id": "59ab61c6",
   "metadata": {
    "id": "59ab61c6"
   },
   "outputs": [
    {
     "data": {
      "text/html": [
       "<div>\n",
       "<style scoped>\n",
       "    .dataframe tbody tr th:only-of-type {\n",
       "        vertical-align: middle;\n",
       "    }\n",
       "\n",
       "    .dataframe tbody tr th {\n",
       "        vertical-align: top;\n",
       "    }\n",
       "\n",
       "    .dataframe thead th {\n",
       "        text-align: right;\n",
       "    }\n",
       "</style>\n",
       "<table border=\"1\" class=\"dataframe\">\n",
       "  <thead>\n",
       "    <tr style=\"text-align: right;\">\n",
       "      <th></th>\n",
       "      <th>food</th>\n",
       "      <th>restaurant</th>\n",
       "      <th>price</th>\n",
       "    </tr>\n",
       "  </thead>\n",
       "  <tbody>\n",
       "    <tr>\n",
       "      <th>0</th>\n",
       "      <td>Pad Thai</td>\n",
       "      <td>Imm Thai</td>\n",
       "      <td>16.0</td>\n",
       "    </tr>\n",
       "    <tr>\n",
       "      <th>1</th>\n",
       "      <td>Pizza</td>\n",
       "      <td>Cheeseboard</td>\n",
       "      <td>24.5</td>\n",
       "    </tr>\n",
       "  </tbody>\n",
       "</table>\n",
       "</div>"
      ],
      "text/plain": [
       "       food   restaurant  price\n",
       "0  Pad Thai     Imm Thai   16.0\n",
       "1     Pizza  Cheeseboard   24.5"
      ]
     },
     "execution_count": 46,
     "metadata": {},
     "output_type": "execute_result"
    }
   ],
   "source": [
    "# Solution for Part 3 here!\n",
    "\n",
    "food_info.iloc[0:2, 0:3]"
   ]
  },
  {
   "cell_type": "code",
   "execution_count": 49,
   "id": "50df5e33",
   "metadata": {
    "id": "50df5e33"
   },
   "outputs": [
    {
     "data": {
      "text/html": [
       "<div>\n",
       "<style scoped>\n",
       "    .dataframe tbody tr th:only-of-type {\n",
       "        vertical-align: middle;\n",
       "    }\n",
       "\n",
       "    .dataframe tbody tr th {\n",
       "        vertical-align: top;\n",
       "    }\n",
       "\n",
       "    .dataframe thead th {\n",
       "        text-align: right;\n",
       "    }\n",
       "</style>\n",
       "<table border=\"1\" class=\"dataframe\">\n",
       "  <thead>\n",
       "    <tr style=\"text-align: right;\">\n",
       "      <th></th>\n",
       "      <th>restaurant</th>\n",
       "      <th>price</th>\n",
       "    </tr>\n",
       "  </thead>\n",
       "  <tbody>\n",
       "    <tr>\n",
       "      <th>0</th>\n",
       "      <td>Imm Thai</td>\n",
       "      <td>16.0</td>\n",
       "    </tr>\n",
       "    <tr>\n",
       "      <th>1</th>\n",
       "      <td>Cheeseboard</td>\n",
       "      <td>24.5</td>\n",
       "    </tr>\n",
       "    <tr>\n",
       "      <th>2</th>\n",
       "      <td>Super Duper</td>\n",
       "      <td>7.0</td>\n",
       "    </tr>\n",
       "  </tbody>\n",
       "</table>\n",
       "</div>"
      ],
      "text/plain": [
       "    restaurant  price\n",
       "0     Imm Thai   16.0\n",
       "1  Cheeseboard   24.5\n",
       "2  Super Duper    7.0"
      ]
     },
     "execution_count": 49,
     "metadata": {},
     "output_type": "execute_result"
    }
   ],
   "source": [
    "# Solution for Part 4 here!\n",
    "\n",
    "food_info.iloc[0:3, 1:3]"
   ]
  },
  {
   "cell_type": "markdown",
   "id": "def2ce4c",
   "metadata": {
    "id": "def2ce4c"
   },
   "source": [
    "### 1c. New Column!\n",
    "\n",
    "You can add new columns to a dataframe. Use the Pandas documentation to help you do this!\n",
    "Add a new column to food_info called 'ratings' where you can put a number from 1-5 rating how good this item of food is."
   ]
  },
  {
   "cell_type": "code",
   "execution_count": 1,
   "id": "e8d5df7d",
   "metadata": {
    "id": "e8d5df7d"
   },
   "outputs": [],
   "source": [
    "# Write your code here!"
   ]
  },
  {
   "cell_type": "markdown",
   "id": "65bc05a6",
   "metadata": {
    "id": "65bc05a6"
   },
   "source": [
    "### 1d. Drop it...\n",
    "\n",
    "You can also drop columns! Drop any column of your choice from food_info. Use the Pandas documentation to help you find the operation you need to do this!"
   ]
  },
  {
   "cell_type": "code",
   "execution_count": 2,
   "id": "aa2666e8",
   "metadata": {
    "id": "aa2666e8"
   },
   "outputs": [],
   "source": [
    "# Write your code here!"
   ]
  },
  {
   "cell_type": "markdown",
   "id": "a6d06c98",
   "metadata": {
    "id": "a6d06c98"
   },
   "source": [
    "### 1e. New Names\n",
    "Rename the columns of your food_info table such that they are all capitalized! Use the Pandas documentation to help you find the operation you need to do this!"
   ]
  },
  {
   "cell_type": "code",
   "execution_count": 2,
   "id": "8dd4b4c1",
   "metadata": {
    "id": "8dd4b4c1"
   },
   "outputs": [],
   "source": []
  },
  {
   "cell_type": "markdown",
   "id": "1863b165",
   "metadata": {
    "id": "1863b165"
   },
   "source": [
    "## Question 2: My Heart Will Go On"
   ]
  },
  {
   "cell_type": "markdown",
   "id": "7b4aa4ff",
   "metadata": {
    "id": "7b4aa4ff"
   },
   "source": [
    "In this question, we're going to get a glimpse into how data can be 'cleaned' for us to be able to understand and use it effectively- looking at the first few steps of Exploratory Data Analysis as we talked about during lecture and in our demo.\n",
    "\n",
    "Step 1 of the EDA process is collecting the data- but in our question today we're going to be working with prexisting data from the Titanic. Let's start with importing that data from a CSV file (filename: titanic_data.csv)."
   ]
  },
  {
   "cell_type": "code",
   "execution_count": 50,
   "id": "f628c002",
   "metadata": {
    "colab": {
     "base_uri": "https://localhost:8080/",
     "height": 356
    },
    "id": "f628c002",
    "outputId": "b4e4a285-7803-4dbd-b0bd-6ab14f8d16dd"
   },
   "outputs": [],
   "source": [
    "# Loading in Data\n",
    "# This will be loading in the data from the 'titanic_data' csv file. Can you figure out why this files is called a CSV?\n",
    "\n",
    "titanic = pd.read_csv('titanic_data.csv')\n"
   ]
  },
  {
   "cell_type": "markdown",
   "id": "9cc85e43",
   "metadata": {
    "id": "9cc85e43"
   },
   "source": [
    "We now have our data (yay)! Our next step is to find and understand the features of the data. In this case, this means understanding what each row and column in the data represents."
   ]
  },
  {
   "cell_type": "markdown",
   "id": "519189aa",
   "metadata": {
    "id": "519189aa"
   },
   "source": [
    "### 2a. What's the Data?\n",
    "What is the shape of this dataset? In other words, how many rows and columns does it have?\n"
   ]
  },
  {
   "cell_type": "code",
   "execution_count": null,
   "id": "b4b2aa9f",
   "metadata": {
    "id": "b4b2aa9f"
   },
   "outputs": [],
   "source": [
    "#Your code here!"
   ]
  },
  {
   "cell_type": "markdown",
   "id": "b65430bd",
   "metadata": {
    "id": "b65430bd"
   },
   "source": [
    "Alright! Now that we've seen a little bit of the data table, and understood what exactly the data is- here's more of a breakdown of what's in this dataset:\n",
    "\n",
    "- PassengerId - Count of the total passengers\n",
    "- Survival - Survival (0 = No; 1 = Yes)\n",
    "- Class - Passenger Class (1 = 1st; 2 = 2nd; 3 = 3rd)\n",
    "- Name - Passenger's Name\n",
    "- Sex - Passenger's Gender\n",
    "- Age - Passenger's Age\n",
    "- Sibsp - Number of Siblings/Spouses Aboard\n",
    "- Parch - Number of Parents/Children Aboard\n",
    "- Ticket - Ticket Number\n",
    "- Fare - Passenger Fare\n",
    "- Cabin - Cabin\n",
    "- Embarked - Port of Embarkation (C = Cherbourg; Q = Queenstown; S = Southampton)\n",
    "- Boat - Lifeboat (if survived)\n",
    "- Body - Body number (if did not survive and body was recovered)"
   ]
  },
  {
   "cell_type": "markdown",
   "id": "273eafe6",
   "metadata": {
    "id": "273eafe6"
   },
   "source": [
    "Though we won't be able to look through all of these helpful features, we can now begin to focus on features of our interest and begin actually using our data to come to some fun conclusions!"
   ]
  },
  {
   "cell_type": "markdown",
   "id": "9e75f2eb",
   "metadata": {
    "id": "9e75f2eb"
   },
   "source": [
    "### 2b. I'm a Survivor\n",
    "\n",
    "In the dataset, there's a column that shows us how many people survived the crash into the iceberg.\n",
    "What fraction of the total number of passengers made it safely?\n",
    "\n",
    "Hint: Determine a method of first, finding how many people survived- and divide this value by the total number of passengers. You can use the value_counts() method."
   ]
  },
  {
   "cell_type": "code",
   "execution_count": 130,
   "id": "b3c847b5",
   "metadata": {
    "id": "b3c847b5"
   },
   "outputs": [
    {
     "data": {
      "text/plain": [
       "Survived\n",
       "0    0.616162\n",
       "1    0.383838\n",
       "Name: count, dtype: float64"
      ]
     },
     "execution_count": 130,
     "metadata": {},
     "output_type": "execute_result"
    }
   ],
   "source": [
    "#Your code here!\n",
    "\n",
    "survived = pd.value_counts(titanic.loc[:, 'Survived'])\n",
    "total = sum(titanic['Survived'].value_counts())\n",
    "\n",
    "survived/total"
   ]
  },
  {
   "cell_type": "markdown",
   "id": "fb7281e4",
   "metadata": {
    "id": "fb7281e4"
   },
   "source": [
    "### 2c. Guest List\n",
    "Another important process of analyzing data is being able to organize it in an effective method for your analysis.\n",
    "Let's say that you want to look at the names of the passengers in alphabetical order- organize the data table by alphabetical order of passenger names.\n",
    "\n",
    "Print out this new datatable with the passengers ordered alphabetically by their name- but starting with the Z names first.\n",
    "\n",
    "Hint: You can use the sort_values() function on pandas. Look at what the different input parameters do!"
   ]
  },
  {
   "cell_type": "code",
   "execution_count": 86,
   "id": "04aa65df",
   "metadata": {
    "id": "04aa65df"
   },
   "outputs": [
    {
     "data": {
      "text/html": [
       "<div>\n",
       "<style scoped>\n",
       "    .dataframe tbody tr th:only-of-type {\n",
       "        vertical-align: middle;\n",
       "    }\n",
       "\n",
       "    .dataframe tbody tr th {\n",
       "        vertical-align: top;\n",
       "    }\n",
       "\n",
       "    .dataframe thead th {\n",
       "        text-align: right;\n",
       "    }\n",
       "</style>\n",
       "<table border=\"1\" class=\"dataframe\">\n",
       "  <thead>\n",
       "    <tr style=\"text-align: right;\">\n",
       "      <th></th>\n",
       "      <th>PassengerId</th>\n",
       "      <th>Survived</th>\n",
       "      <th>Pclass</th>\n",
       "      <th>Name</th>\n",
       "      <th>Sex</th>\n",
       "      <th>Age</th>\n",
       "      <th>SibSp</th>\n",
       "      <th>Parch</th>\n",
       "      <th>Ticket</th>\n",
       "      <th>Fare</th>\n",
       "      <th>Cabin</th>\n",
       "      <th>Embarked</th>\n",
       "    </tr>\n",
       "  </thead>\n",
       "  <tbody>\n",
       "    <tr>\n",
       "      <th>868</th>\n",
       "      <td>869</td>\n",
       "      <td>0</td>\n",
       "      <td>3</td>\n",
       "      <td>van Melkebeke, Mr. Philemon</td>\n",
       "      <td>male</td>\n",
       "      <td>NaN</td>\n",
       "      <td>0</td>\n",
       "      <td>0</td>\n",
       "      <td>345777</td>\n",
       "      <td>9.5000</td>\n",
       "      <td>NaN</td>\n",
       "      <td>S</td>\n",
       "    </tr>\n",
       "    <tr>\n",
       "      <th>153</th>\n",
       "      <td>154</td>\n",
       "      <td>0</td>\n",
       "      <td>3</td>\n",
       "      <td>van Billiard, Mr. Austin Blyler</td>\n",
       "      <td>male</td>\n",
       "      <td>40.5</td>\n",
       "      <td>0</td>\n",
       "      <td>2</td>\n",
       "      <td>A/5. 851</td>\n",
       "      <td>14.5000</td>\n",
       "      <td>NaN</td>\n",
       "      <td>S</td>\n",
       "    </tr>\n",
       "    <tr>\n",
       "      <th>361</th>\n",
       "      <td>362</td>\n",
       "      <td>0</td>\n",
       "      <td>2</td>\n",
       "      <td>del Carlo, Mr. Sebastiano</td>\n",
       "      <td>male</td>\n",
       "      <td>29.0</td>\n",
       "      <td>1</td>\n",
       "      <td>0</td>\n",
       "      <td>SC/PARIS 2167</td>\n",
       "      <td>27.7208</td>\n",
       "      <td>NaN</td>\n",
       "      <td>C</td>\n",
       "    </tr>\n",
       "    <tr>\n",
       "      <th>282</th>\n",
       "      <td>283</td>\n",
       "      <td>0</td>\n",
       "      <td>3</td>\n",
       "      <td>de Pelsmaeker, Mr. Alfons</td>\n",
       "      <td>male</td>\n",
       "      <td>16.0</td>\n",
       "      <td>0</td>\n",
       "      <td>0</td>\n",
       "      <td>345778</td>\n",
       "      <td>9.5000</td>\n",
       "      <td>NaN</td>\n",
       "      <td>S</td>\n",
       "    </tr>\n",
       "    <tr>\n",
       "      <th>286</th>\n",
       "      <td>287</td>\n",
       "      <td>1</td>\n",
       "      <td>3</td>\n",
       "      <td>de Mulder, Mr. Theodore</td>\n",
       "      <td>male</td>\n",
       "      <td>30.0</td>\n",
       "      <td>0</td>\n",
       "      <td>0</td>\n",
       "      <td>345774</td>\n",
       "      <td>9.5000</td>\n",
       "      <td>NaN</td>\n",
       "      <td>S</td>\n",
       "    </tr>\n",
       "    <tr>\n",
       "      <th>...</th>\n",
       "      <td>...</td>\n",
       "      <td>...</td>\n",
       "      <td>...</td>\n",
       "      <td>...</td>\n",
       "      <td>...</td>\n",
       "      <td>...</td>\n",
       "      <td>...</td>\n",
       "      <td>...</td>\n",
       "      <td>...</td>\n",
       "      <td>...</td>\n",
       "      <td>...</td>\n",
       "      <td>...</td>\n",
       "    </tr>\n",
       "    <tr>\n",
       "      <th>874</th>\n",
       "      <td>875</td>\n",
       "      <td>1</td>\n",
       "      <td>2</td>\n",
       "      <td>Abelson, Mrs. Samuel (Hannah Wizosky)</td>\n",
       "      <td>female</td>\n",
       "      <td>28.0</td>\n",
       "      <td>1</td>\n",
       "      <td>0</td>\n",
       "      <td>P/PP 3381</td>\n",
       "      <td>24.0000</td>\n",
       "      <td>NaN</td>\n",
       "      <td>C</td>\n",
       "    </tr>\n",
       "    <tr>\n",
       "      <th>308</th>\n",
       "      <td>309</td>\n",
       "      <td>0</td>\n",
       "      <td>2</td>\n",
       "      <td>Abelson, Mr. Samuel</td>\n",
       "      <td>male</td>\n",
       "      <td>30.0</td>\n",
       "      <td>1</td>\n",
       "      <td>0</td>\n",
       "      <td>P/PP 3381</td>\n",
       "      <td>24.0000</td>\n",
       "      <td>NaN</td>\n",
       "      <td>C</td>\n",
       "    </tr>\n",
       "    <tr>\n",
       "      <th>279</th>\n",
       "      <td>280</td>\n",
       "      <td>1</td>\n",
       "      <td>3</td>\n",
       "      <td>Abbott, Mrs. Stanton (Rosa Hunt)</td>\n",
       "      <td>female</td>\n",
       "      <td>35.0</td>\n",
       "      <td>1</td>\n",
       "      <td>1</td>\n",
       "      <td>C.A. 2673</td>\n",
       "      <td>20.2500</td>\n",
       "      <td>NaN</td>\n",
       "      <td>S</td>\n",
       "    </tr>\n",
       "    <tr>\n",
       "      <th>746</th>\n",
       "      <td>747</td>\n",
       "      <td>0</td>\n",
       "      <td>3</td>\n",
       "      <td>Abbott, Mr. Rossmore Edward</td>\n",
       "      <td>male</td>\n",
       "      <td>16.0</td>\n",
       "      <td>1</td>\n",
       "      <td>1</td>\n",
       "      <td>C.A. 2673</td>\n",
       "      <td>20.2500</td>\n",
       "      <td>NaN</td>\n",
       "      <td>S</td>\n",
       "    </tr>\n",
       "    <tr>\n",
       "      <th>845</th>\n",
       "      <td>846</td>\n",
       "      <td>0</td>\n",
       "      <td>3</td>\n",
       "      <td>Abbing, Mr. Anthony</td>\n",
       "      <td>male</td>\n",
       "      <td>42.0</td>\n",
       "      <td>0</td>\n",
       "      <td>0</td>\n",
       "      <td>C.A. 5547</td>\n",
       "      <td>7.5500</td>\n",
       "      <td>NaN</td>\n",
       "      <td>S</td>\n",
       "    </tr>\n",
       "  </tbody>\n",
       "</table>\n",
       "<p>891 rows × 12 columns</p>\n",
       "</div>"
      ],
      "text/plain": [
       "     PassengerId  Survived  Pclass                                   Name  \\\n",
       "868          869         0       3            van Melkebeke, Mr. Philemon   \n",
       "153          154         0       3        van Billiard, Mr. Austin Blyler   \n",
       "361          362         0       2              del Carlo, Mr. Sebastiano   \n",
       "282          283         0       3              de Pelsmaeker, Mr. Alfons   \n",
       "286          287         1       3                de Mulder, Mr. Theodore   \n",
       "..           ...       ...     ...                                    ...   \n",
       "874          875         1       2  Abelson, Mrs. Samuel (Hannah Wizosky)   \n",
       "308          309         0       2                    Abelson, Mr. Samuel   \n",
       "279          280         1       3       Abbott, Mrs. Stanton (Rosa Hunt)   \n",
       "746          747         0       3            Abbott, Mr. Rossmore Edward   \n",
       "845          846         0       3                    Abbing, Mr. Anthony   \n",
       "\n",
       "        Sex   Age  SibSp  Parch         Ticket     Fare Cabin Embarked  \n",
       "868    male   NaN      0      0         345777   9.5000   NaN        S  \n",
       "153    male  40.5      0      2       A/5. 851  14.5000   NaN        S  \n",
       "361    male  29.0      1      0  SC/PARIS 2167  27.7208   NaN        C  \n",
       "282    male  16.0      0      0         345778   9.5000   NaN        S  \n",
       "286    male  30.0      0      0         345774   9.5000   NaN        S  \n",
       "..      ...   ...    ...    ...            ...      ...   ...      ...  \n",
       "874  female  28.0      1      0      P/PP 3381  24.0000   NaN        C  \n",
       "308    male  30.0      1      0      P/PP 3381  24.0000   NaN        C  \n",
       "279  female  35.0      1      1      C.A. 2673  20.2500   NaN        S  \n",
       "746    male  16.0      1      1      C.A. 2673  20.2500   NaN        S  \n",
       "845    male  42.0      0      0      C.A. 5547   7.5500   NaN        S  \n",
       "\n",
       "[891 rows x 12 columns]"
      ]
     },
     "execution_count": 86,
     "metadata": {},
     "output_type": "execute_result"
    }
   ],
   "source": [
    "#Your code here!\n",
    "\n",
    "titanic.sort_values(by=['Name'], ascending=False)"
   ]
  },
  {
   "cell_type": "markdown",
   "id": "11c9c432",
   "metadata": {
    "id": "11c9c432"
   },
   "source": [
    "### 2d. Numbers, Numbers, Numbers\n",
    "Statistics are important for working with data. A lot of the time, we want to understand overall trends in data, and statistical measures are very helpful for this. Here are some things we can investigate:\n",
    "- What was the mean age of all of the passengers? What about the standard deviation?\n",
    "- What was the instance of the maximum number of Parents/Children aboard? What about the maximum number of Siblings/Spouses?"
   ]
  },
  {
   "cell_type": "code",
   "execution_count": 121,
   "id": "616eeaee",
   "metadata": {
    "id": "616eeaee"
   },
   "outputs": [
    {
     "ename": "SyntaxError",
     "evalue": "invalid syntax (1482867851.py, line 5)",
     "output_type": "error",
     "traceback": [
      "\u001b[0;36m  Cell \u001b[0;32mIn[121], line 5\u001b[0;36m\u001b[0m\n\u001b[0;31m    if titanic.loc[i, 'Age'] == :\u001b[0m\n\u001b[0m                                ^\u001b[0m\n\u001b[0;31mSyntaxError\u001b[0m\u001b[0;31m:\u001b[0m invalid syntax\n"
     ]
    }
   ],
   "source": [
    "# Mean Age of Passengers\n",
    "\n"
   ]
  },
  {
   "cell_type": "code",
   "execution_count": null,
   "id": "98c0f14d",
   "metadata": {
    "id": "98c0f14d"
   },
   "outputs": [],
   "source": [
    "# Standard Dev of Passenger Age"
   ]
  },
  {
   "cell_type": "code",
   "execution_count": null,
   "id": "789c88b6",
   "metadata": {
    "id": "789c88b6"
   },
   "outputs": [],
   "source": [
    "# Maximum Number Parents/Children Aboard"
   ]
  },
  {
   "cell_type": "code",
   "execution_count": null,
   "id": "42a649b2",
   "metadata": {
    "id": "42a649b2"
   },
   "outputs": [],
   "source": [
    "# Maximum Number of Siblings/Spouses Aboard"
   ]
  },
  {
   "cell_type": "markdown",
   "id": "0f1f6239",
   "metadata": {
    "id": "0f1f6239"
   },
   "source": [
    "### 2e. Ooh that's Pricey...\n",
    "Some people had to pay a higher fare than others in order to secure their spot on this ship. Print out the 10 people who spent the most money on their fare for the Titanic.\n",
    "\n",
    "Hint 1: You may find sort_values() helpful.\n",
    "\n",
    "Hint 2: You'll need to somehow get the names only, NOT the counts associated with each. If you're not sure how to do this, try looking through the class notes or using a search engine. We know this is annoying but we're trying to help you build independence.\n",
    "\n",
    "Hint 3: To check your answer, this should return a list of 10 names- it should not be a number."
   ]
  },
  {
   "cell_type": "code",
   "execution_count": null,
   "id": "ce7f55bd",
   "metadata": {
    "id": "ce7f55bd"
   },
   "outputs": [],
   "source": [
    "# Your code here!"
   ]
  },
  {
   "cell_type": "markdown",
   "id": "ce092a3e",
   "metadata": {
    "id": "ce092a3e"
   },
   "source": [
    "### 2f. not the NaNs...\n",
    "If you look at certain data entries, you may notice an interesting feature- NaN. This stands for Not a Number- and it basically shows us 'missing' or incorrectly represented data. In this case, the \"Cabin\" column has a lot of NaN values, which means they likely have a significance. We often will want to drop or appropriately replace the NaN values in a dataset- but in this question, let's just look at all of the entries that have a NaN in the \"Cabin\" column.\n",
    "\n",
    "Print out a datatable from the original dataframe that only contains the rows with NaN in the \"Cabin\" column."
   ]
  },
  {
   "cell_type": "code",
   "execution_count": null,
   "id": "3a360dd9",
   "metadata": {
    "id": "3a360dd9"
   },
   "outputs": [],
   "source": [
    "#Your code here!"
   ]
  },
  {
   "cell_type": "markdown",
   "id": "63789848",
   "metadata": {
    "id": "63789848"
   },
   "source": [
    "### 2g. Group Up!\n",
    "\n",
    "A lot of times, when we look at our data we want to look at it in different 'groups' to understand how features are related. For this question, let's take a look at how the other features relate to where the passengers embarked on the journey (C = Cherbourg; Q = Queenstown; S = Southampton).\n",
    "\n",
    "Group by the embarkation and print out your result.\n",
    "\n",
    "Hint: You will have to use an aggregation function (e.g, count, mean, median, sum, max...) to find the totals.\n",
    "\n",
    "When this is done, you'll see that some columns no longer contain useful information- such as PassengerId and Age- but others provide us with valuabe insights such as the Surivived, and Fare columns which tell us the total fare collected at each port, and how many people survived according to where they boarded the ship."
   ]
  },
  {
   "cell_type": "code",
   "execution_count": null,
   "id": "4a4e547c",
   "metadata": {
    "id": "4a4e547c"
   },
   "outputs": [],
   "source": [
    "#Your code here!"
   ]
  }
 ],
 "metadata": {
  "colab": {
   "provenance": []
  },
  "kernelspec": {
   "display_name": "Python 3 (ipykernel)",
   "language": "python",
   "name": "python3"
  },
  "language_info": {
   "codemirror_mode": {
    "name": "ipython",
    "version": 3
   },
   "file_extension": ".py",
   "mimetype": "text/x-python",
   "name": "python",
   "nbconvert_exporter": "python",
   "pygments_lexer": "ipython3",
   "version": "3.11.5"
  }
 },
 "nbformat": 4,
 "nbformat_minor": 5
}
